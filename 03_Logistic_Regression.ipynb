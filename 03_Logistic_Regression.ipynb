{
 "cells": [
  {
   "cell_type": "markdown",
   "metadata": {},
   "source": [
    "Nesse curso, usaremos a base de dados do MNIST para aprender sobre CNN"
   ]
  },
  {
   "cell_type": "code",
   "execution_count": 1,
   "metadata": {},
   "outputs": [],
   "source": [
    "# Importações\n",
    "import torch\n",
    "import torchvision\n",
    "from torchvision.datasets import MNIST"
   ]
  },
  {
   "cell_type": "code",
   "execution_count": 2,
   "metadata": {},
   "outputs": [],
   "source": [
    "# Baixamos o dataset\n",
    "dataset = MNIST(root='data/', download=True)"
   ]
  },
  {
   "cell_type": "code",
   "execution_count": 3,
   "metadata": {},
   "outputs": [
    {
     "data": {
      "text/plain": [
       "60000"
      ]
     },
     "execution_count": 3,
     "metadata": {},
     "output_type": "execute_result"
    }
   ],
   "source": [
    "len(dataset)"
   ]
  },
  {
   "cell_type": "code",
   "execution_count": 4,
   "metadata": {},
   "outputs": [
    {
     "data": {
      "text/plain": [
       "10000"
      ]
     },
     "execution_count": 4,
     "metadata": {},
     "output_type": "execute_result"
    }
   ],
   "source": [
    "test_dataset = MNIST(root='data/', train=False)\n",
    "len(test_dataset)"
   ]
  },
  {
   "cell_type": "code",
   "execution_count": 5,
   "metadata": {},
   "outputs": [
    {
     "data": {
      "text/plain": [
       "(<PIL.Image.Image image mode=L size=28x28>, 5)"
      ]
     },
     "execution_count": 5,
     "metadata": {},
     "output_type": "execute_result"
    }
   ],
   "source": [
    "dataset[0]"
   ]
  },
  {
   "cell_type": "code",
   "execution_count": 6,
   "metadata": {},
   "outputs": [],
   "source": [
    "import matplotlib.pyplot as plt\n",
    "%matplotlib inline"
   ]
  },
  {
   "cell_type": "code",
   "execution_count": 7,
   "metadata": {},
   "outputs": [
    {
     "data": {
      "text/plain": [
       "<matplotlib.image.AxesImage at 0x2619e9de150>"
      ]
     },
     "execution_count": 7,
     "metadata": {},
     "output_type": "execute_result"
    },
    {
     "data": {
      "image/png": "[encoded data removed]",
      "text/plain": [
       "<Figure size 640x480 with 1 Axes>"
      ]
     },
     "metadata": {},
     "output_type": "display_data"
    }
   ],
   "source": [
    "# Mostramos a imagem\n",
    "image, label = dataset[0]\n",
    "plt.imshow(image, cmap='gray')"
   ]
  },
  {
   "cell_type": "code",
   "execution_count": 8,
   "metadata": {},
   "outputs": [],
   "source": [
    "import torchvision.transforms as transforms"
   ]
  },
  {
   "cell_type": "markdown",
   "metadata": {},
   "source": [
    "PyTorch não é uma biblioteca para processamento de imagens, e sim de tensores. Portanto, precisamos converter a imagem em tensores."
   ]
  },
  {
   "cell_type": "code",
   "execution_count": 9,
   "metadata": {},
   "outputs": [],
   "source": [
    "dataset = MNIST(root=\"data/\", train=True, transform=transforms.ToTensor())"
   ]
  },
  {
   "cell_type": "code",
   "execution_count": 10,
   "metadata": {},
   "outputs": [
    {
     "name": "stdout",
     "output_type": "stream",
     "text": [
      "torch.Size([1, 28, 28]) 5\n"
     ]
    }
   ],
   "source": [
    "img_tensor, label = dataset[0]\n",
    "print(img_tensor.shape, label)\n",
    "# torch.Size([1, 28, 28]) 5 --> 1 canal de cor, 28x28 pixels que representa o 5"
   ]
  },
  {
   "cell_type": "code",
   "execution_count": 11,
   "metadata": {},
   "outputs": [
    {
     "name": "stdout",
     "output_type": "stream",
     "text": [
      "tensor([[[0.0039, 0.6039, 0.9922, 0.3529, 0.0000],\n",
      "         [0.0000, 0.5451, 0.9922, 0.7451, 0.0078],\n",
      "         [0.0000, 0.0431, 0.7451, 0.9922, 0.2745],\n",
      "         [0.0000, 0.0000, 0.1373, 0.9451, 0.8824],\n",
      "         [0.0000, 0.0000, 0.0000, 0.3176, 0.9412]]])\n",
      "tensor(1.) tensor(0.)\n"
     ]
    }
   ],
   "source": [
    "print(img_tensor[:, 10:15, 10:15])\n",
    "print(torch.max(img_tensor), torch.min(img_tensor))"
   ]
  },
  {
   "cell_type": "code",
   "execution_count": 12,
   "metadata": {},
   "outputs": [
    {
     "data": {
      "text/plain": [
       "<matplotlib.image.AxesImage at 0x261f99ca910>"
      ]
     },
     "execution_count": 12,
     "metadata": {},
     "output_type": "execute_result"
    },
    {
     "data": {
      "image/png": "[encoded data removed]",
      "text/plain": [
       "<Figure size 640x480 with 1 Axes>"
      ]
     },
     "metadata": {},
     "output_type": "display_data"
    }
   ],
   "source": [
    "plt.imshow(img_tensor[0, 10:15, 10:15], cmap='gray')"
   ]
  },
  {
   "cell_type": "markdown",
   "metadata": {},
   "source": [
    "## Treinamento e Validação"
   ]
  },
  {
   "cell_type": "markdown",
   "metadata": {},
   "source": [
    "Para construir modelos para aplicações reais de aprendizado de máquina, precisamos separar o dataset em 3 partes:\n",
    "\n",
    "1. Treinamento: Usado para o treinamento do modelo;\n",
    "2. Validação: Usado para validar o modelo durante o treinamento;\n",
    "3. Teste: Usado para comparar diferentes resultados de modelos diferentes e medir a acurácia."
   ]
  },
  {
   "cell_type": "code",
   "execution_count": 13,
   "metadata": {},
   "outputs": [
    {
     "data": {
      "text/plain": [
       "(50000, 10000)"
      ]
     },
     "execution_count": 13,
     "metadata": {},
     "output_type": "execute_result"
    }
   ],
   "source": [
    "from torch.utils.data import random_split\n",
    "\n",
    "train_ds, val_ds = random_split(dataset, [50000, 10000])\n",
    "len(train_ds), len(val_ds)"
   ]
  },
  {
   "cell_type": "code",
   "execution_count": 14,
   "metadata": {},
   "outputs": [],
   "source": [
    "from torch.utils.data import DataLoader\n",
    "\n",
    "batch_size = 128\n",
    "\n",
    "train_loader = DataLoader(train_ds, batch_size, shuffle=True)\n",
    "val_loader = DataLoader(val_ds, batch_size)"
   ]
  },
  {
   "cell_type": "code",
   "execution_count": 15,
   "metadata": {},
   "outputs": [],
   "source": [
    "import torch.nn as nn\n",
    "\n",
    "input_size = 28 * 28\n",
    "num_classes = 10\n",
    "\n",
    "# Modelo de regressão logística\n",
    "model = nn.Linear(input_size, num_classes)"
   ]
  },
  {
   "cell_type": "code",
   "execution_count": 16,
   "metadata": {},
   "outputs": [
    {
     "name": "stdout",
     "output_type": "stream",
     "text": [
      "torch.Size([10, 784])\n"
     ]
    },
    {
     "data": {
      "text/plain": [
       "Parameter containing:\n",
       "tensor([[ 0.0164, -0.0186, -0.0117,  ...,  0.0199, -0.0223, -0.0040],\n",
       "        [ 0.0103, -0.0028,  0.0334,  ...,  0.0068, -0.0107, -0.0187],\n",
       "        [-0.0344, -0.0287,  0.0074,  ...,  0.0282,  0.0172,  0.0015],\n",
       "        ...,\n",
       "        [-0.0331, -0.0142, -0.0280,  ...,  0.0039,  0.0124, -0.0043],\n",
       "        [ 0.0119, -0.0085,  0.0101,  ...,  0.0039,  0.0053,  0.0328],\n",
       "        [ 0.0024,  0.0125, -0.0248,  ...,  0.0106,  0.0158,  0.0169]],\n",
       "       requires_grad=True)"
      ]
     },
     "execution_count": 16,
     "metadata": {},
     "output_type": "execute_result"
    }
   ],
   "source": [
    "print(model.weight.shape)\n",
    "model.weight"
   ]
  },
  {
   "cell_type": "code",
   "execution_count": 17,
   "metadata": {},
   "outputs": [
    {
     "name": "stdout",
     "output_type": "stream",
     "text": [
      "tensor([7, 1, 5, 7, 1, 8, 3, 0, 5, 9, 4, 1, 9, 0, 8, 8, 3, 5, 5, 5, 8, 9, 8, 6,\n",
      "        2, 5, 8, 8, 8, 1, 7, 3, 0, 3, 9, 5, 8, 1, 6, 1, 0, 1, 8, 6, 4, 3, 3, 2,\n",
      "        0, 8, 8, 1, 2, 9, 3, 5, 1, 9, 7, 3, 6, 3, 8, 0, 6, 6, 2, 7, 7, 3, 7, 9,\n",
      "        6, 4, 5, 2, 0, 4, 6, 6, 5, 7, 1, 5, 4, 6, 4, 3, 4, 2, 8, 2, 3, 9, 5, 7,\n",
      "        0, 3, 9, 6, 1, 4, 9, 2, 6, 2, 3, 8, 3, 0, 3, 4, 4, 3, 1, 8, 5, 5, 1, 3,\n",
      "        8, 4, 3, 5, 0, 1, 9, 3])\n",
      "torch.Size([128, 1, 28, 28])\n"
     ]
    }
   ],
   "source": [
    "for images, labels in train_loader:\n",
    "    print(labels)\n",
    "    print(images.shape)\n",
    "    images = images.reshape(batch_size, 784)\n",
    "    outputs = model(images)\n",
    "    break"
   ]
  },
  {
   "cell_type": "code",
   "execution_count": 18,
   "metadata": {},
   "outputs": [],
   "source": [
    "class MnistModel(nn.Module):\n",
    "    def __init__(self):\n",
    "        super().__init__()\n",
    "        self.linear = nn.Linear(input_size, num_classes)\n",
    "\n",
    "    def forward(self, xb):\n",
    "        xb = xb.reshape(-1, 784)\n",
    "        out = self.linear(xb)\n",
    "        return out"
   ]
  },
  {
   "cell_type": "markdown",
   "metadata": {},
   "source": [
    "Dentro do método `__init__`, instanciamos os pesos e bias utilizando `nn.Module`. E dentro do método `forward`, passamos o tensor com os pixels da imagem 28x28 com uma única dimensão. Dessa forma temos [28x28] --> [1x784]"
   ]
  },
  {
   "cell_type": "code",
   "execution_count": 19,
   "metadata": {},
   "outputs": [],
   "source": [
    "model = MnistModel()"
   ]
  },
  {
   "cell_type": "code",
   "execution_count": 20,
   "metadata": {},
   "outputs": [
    {
     "data": {
      "text/plain": [
       "Linear(in_features=784, out_features=10, bias=True)"
      ]
     },
     "execution_count": 20,
     "metadata": {},
     "output_type": "execute_result"
    }
   ],
   "source": [
    "model.linear"
   ]
  },
  {
   "cell_type": "code",
   "execution_count": 21,
   "metadata": {},
   "outputs": [
    {
     "name": "stdout",
     "output_type": "stream",
     "text": [
      "outputs.shape :  torch.Size([128, 10])\n",
      "Sample outputs :\n",
      " tensor([[ 0.3635, -0.1728, -0.1937, -0.3101,  0.1761,  0.1082,  0.5006,  0.0658,\n",
      "          0.1108, -0.2008],\n",
      "        [-0.0770, -0.0249, -0.0715, -0.0109,  0.2401,  0.0357,  0.2343,  0.1292,\n",
      "          0.0199, -0.1860]])\n"
     ]
    }
   ],
   "source": [
    "for images, labels in train_loader:\n",
    "    outputs = model(images)\n",
    "    break\n",
    "\n",
    "print(\"outputs.shape : \", outputs.shape)\n",
    "print(\"Sample outputs :\\n\", outputs[:2].data)"
   ]
  },
  {
   "cell_type": "code",
   "execution_count": 22,
   "metadata": {},
   "outputs": [],
   "source": [
    "import torch.nn.functional as F"
   ]
  },
  {
   "cell_type": "code",
   "execution_count": 23,
   "metadata": {},
   "outputs": [
    {
     "name": "stdout",
     "output_type": "stream",
     "text": [
      "Probabilidades dos exemplos:\n",
      " tensor([[0.1332, 0.0779, 0.0763, 0.0679, 0.1105, 0.1032, 0.1528, 0.0989, 0.1035,\n",
      "         0.0758],\n",
      "        [0.0892, 0.0940, 0.0897, 0.0953, 0.1225, 0.0998, 0.1218, 0.1096, 0.0983,\n",
      "         0.0800]])\n",
      "Soma:  1.0\n"
     ]
    }
   ],
   "source": [
    "# Aplicamos a função softmax em cada linha\n",
    "probs = F.softmax(outputs, dim=1)\n",
    "\n",
    "# Olhamos as probabilidades\n",
    "print(\"Probabilidades dos exemplos:\\n\", probs[:2].data)\n",
    "\n",
    "# Adicionamos as probabilidades em uma linha de saída\n",
    "print(\"Soma: \", torch.sum(probs[0]).item())"
   ]
  },
  {
   "cell_type": "markdown",
   "metadata": {},
   "source": [
    "Para determinarmos a predição, simplesmente escolhemos o valor máximo."
   ]
  },
  {
   "cell_type": "code",
   "execution_count": 24,
   "metadata": {},
   "outputs": [
    {
     "name": "stdout",
     "output_type": "stream",
     "text": [
      "tensor([6, 4, 6, 6, 6, 6, 6, 6, 6, 6, 6, 6, 6, 6, 6, 6, 6, 6, 9, 6, 6, 6, 5, 6,\n",
      "        6, 6, 6, 6, 5, 6, 6, 6, 6, 6, 6, 6, 6, 5, 6, 6, 9, 6, 6, 6, 6, 6, 6, 6,\n",
      "        6, 6, 6, 6, 6, 6, 6, 6, 6, 2, 6, 6, 6, 6, 6, 6, 6, 6, 6, 6, 6, 6, 6, 6,\n",
      "        6, 6, 6, 6, 6, 6, 6, 6, 6, 6, 6, 6, 6, 6, 6, 6, 6, 7, 9, 6, 6, 6, 6, 6,\n",
      "        6, 6, 6, 6, 6, 6, 6, 2, 6, 6, 6, 6, 6, 6, 6, 6, 6, 6, 6, 6, 6, 6, 6, 6,\n",
      "        6, 6, 6, 6, 6, 6, 6, 6])\n",
      "tensor([0.1528, 0.1225, 0.1479, 0.1402, 0.1239, 0.1867, 0.1554, 0.1471, 0.2010,\n",
      "        0.2160, 0.1495, 0.1399, 0.1602, 0.1539, 0.2000, 0.1528, 0.1540, 0.1629,\n",
      "        0.1265, 0.1835, 0.1441, 0.1285, 0.1206, 0.1601, 0.1486, 0.1424, 0.1608,\n",
      "        0.1407, 0.1267, 0.1871, 0.1310, 0.1386, 0.1306, 0.1469, 0.1487, 0.1565,\n",
      "        0.1371, 0.1166, 0.1625, 0.1260, 0.1315, 0.1556, 0.1304, 0.1308, 0.1479,\n",
      "        0.1295, 0.1911, 0.1497, 0.1646, 0.1382, 0.1175, 0.1326, 0.1601, 0.1683,\n",
      "        0.1613, 0.1561, 0.1324, 0.1178, 0.1863, 0.1558, 0.1582, 0.1566, 0.1667,\n",
      "        0.1452, 0.2068, 0.1239, 0.1429, 0.1428, 0.1678, 0.1890, 0.1253, 0.1510,\n",
      "        0.1621, 0.1443, 0.1323, 0.1334, 0.1515, 0.1547, 0.1457, 0.1767, 0.1645,\n",
      "        0.1760, 0.1316, 0.1276, 0.1308, 0.2017, 0.1468, 0.1425, 0.1768, 0.1193,\n",
      "        0.1189, 0.2217, 0.1461, 0.1523, 0.2134, 0.1537, 0.1275, 0.1551, 0.1277,\n",
      "        0.1209, 0.1886, 0.1390, 0.1464, 0.1181, 0.1732, 0.1720, 0.1346, 0.1638,\n",
      "        0.1834, 0.1678, 0.1306, 0.1402, 0.1212, 0.1247, 0.2482, 0.1418, 0.1271,\n",
      "        0.1517, 0.1578, 0.2189, 0.1772, 0.1556, 0.1517, 0.1809, 0.1518, 0.1729,\n",
      "        0.1187, 0.1677], grad_fn=<MaxBackward0>)\n"
     ]
    }
   ],
   "source": [
    "max_probs, preds = torch.max(probs, dim=1)\n",
    "print(preds)\n",
    "print(max_probs)"
   ]
  },
  {
   "cell_type": "markdown",
   "metadata": {},
   "source": [
    "## Validação e Função de Perda"
   ]
  },
  {
   "cell_type": "code",
   "execution_count": 25,
   "metadata": {},
   "outputs": [],
   "source": [
    "def accuracy(outputs, labels):\n",
    "    # Pega o índice do maior valor\n",
    "    _, preds = torch.max(outputs, dim=1)\n",
    "\n",
    "    # Número de exemplos que foram classificados corretamente\n",
    "    return torch.tensor(torch.sum(preds == labels).item() / len(preds))"
   ]
  },
  {
   "cell_type": "code",
   "execution_count": 26,
   "metadata": {},
   "outputs": [
    {
     "data": {
      "text/plain": [
       "tensor(13)"
      ]
     },
     "execution_count": 26,
     "metadata": {},
     "output_type": "execute_result"
    }
   ],
   "source": [
    "torch.sum(preds == labels)"
   ]
  },
  {
   "cell_type": "code",
   "execution_count": 27,
   "metadata": {},
   "outputs": [
    {
     "data": {
      "text/plain": [
       "tensor(0.1016)"
      ]
     },
     "execution_count": 27,
     "metadata": {},
     "output_type": "execute_result"
    }
   ],
   "source": [
    "accuracy(outputs, labels)"
   ]
  },
  {
   "cell_type": "code",
   "execution_count": 28,
   "metadata": {},
   "outputs": [],
   "source": [
    "loss_fn = F.cross_entropy"
   ]
  },
  {
   "cell_type": "code",
   "execution_count": 29,
   "metadata": {},
   "outputs": [
    {
     "name": "stdout",
     "output_type": "stream",
     "text": [
      "tensor(2.3372, grad_fn=<NllLossBackward0>)\n"
     ]
    }
   ],
   "source": [
    "# Perda para a batch atual de dados\n",
    "loss = loss_fn(outputs, labels)\n",
    "print(loss)"
   ]
  },
  {
   "cell_type": "code",
   "execution_count": 30,
   "metadata": {},
   "outputs": [],
   "source": [
    "e = torch.exp(torch.tensor(1.))"
   ]
  },
  {
   "cell_type": "code",
   "execution_count": 31,
   "metadata": {},
   "outputs": [
    {
     "name": "stdout",
     "output_type": "stream",
     "text": [
      "tensor(0.0966, grad_fn=<PowBackward1>)\n"
     ]
    }
   ],
   "source": [
    "print(e**-loss)\n",
    "\n",
    "# O modelo tem 9% de probabilidade de classificar corretamente a imagem antes do treinamento"
   ]
  },
  {
   "cell_type": "markdown",
   "metadata": {},
   "source": [
    "## Treinando o modelo"
   ]
  },
  {
   "cell_type": "markdown",
   "metadata": {},
   "source": [
    "Abaixo temos um pseudocódigo para o treinamento"
   ]
  },
  {
   "cell_type": "code",
   "execution_count": 32,
   "metadata": {},
   "outputs": [],
   "source": [
    "for epoch in range(0):\n",
    "    # Fase de treinamento\n",
    "    for batch in train_loader:\n",
    "        # Geramos previsões\n",
    "        # Calculamos a perda\n",
    "        # Computamos os gradientes\n",
    "        # Atualizamos os pesos\n",
    "        # Resetamos os gradientes\n",
    "        ...\n",
    "\n",
    "    # Fase de validação\n",
    "    for batch in val_loader:\n",
    "        # Geramos previsões\n",
    "        # Calculamos a perda\n",
    "        # Computamos a métrica de desempenho\n",
    "        ...\n",
    "\n",
    "    # Calculamos a média da perda e da métrica de desempenho em todas as batches de treinamento\n",
    "\n",
    "    # Registramos os valores de perda e métrica de desempenho para inspeção"
   ]
  },
  {
   "cell_type": "code",
   "execution_count": 33,
   "metadata": {},
   "outputs": [],
   "source": [
    "def fit(epochs, lr, model, train_loader, val_loader, opt_func=torch.optim.SGD):\n",
    "    optimizer = opt_func(model.parameters(), lr)\n",
    "    history = []  # Para armazenar os valores de perda e métrica de desempenho\n",
    "\n",
    "    for epoch in range(epochs):\n",
    "        # Fase de treinamento\n",
    "        for batch in train_loader:\n",
    "            loss = model.training_step(batch)\n",
    "            loss.backward()\n",
    "            optimizer.step()\n",
    "            optimizer.zero_grad()\n",
    "\n",
    "        # Fase de validação\n",
    "        # result = []\n",
    "        # for batch in val_loader:\n",
    "        #     result.append(model.validation_step(batch))\n",
    "        # model.validation_epoch_end(result)\n",
    "        # history.append(result)\n",
    "        \n",
    "        result = evaluate(model, val_loader)\n",
    "        model.epoch_end(epoch, result)\n",
    "        history.append(result)\n",
    "\n",
    "    return history"
   ]
  },
  {
   "cell_type": "code",
   "execution_count": 34,
   "metadata": {},
   "outputs": [],
   "source": [
    "def evaluate(model, val_loader):\n",
    "    outputs = [model.validation_step(batch) for batch in val_loader]\n",
    "    return model.validation_epoch_end(outputs)"
   ]
  },
  {
   "cell_type": "markdown",
   "metadata": {},
   "source": [
    "Antes de treinar, precisamos adicionar os métodos de treinamento e validação na classe `MnistModel`"
   ]
  },
  {
   "cell_type": "code",
   "execution_count": 35,
   "metadata": {},
   "outputs": [],
   "source": [
    "class MnistModel(nn.Module):\n",
    "    def __init__(self):\n",
    "        super().__init__()\n",
    "        self.linear = nn.Linear(input_size, num_classes)\n",
    "\n",
    "    def forward(self, xb):\n",
    "        xb = xb.reshape(-1, 784)\n",
    "        return self.linear(xb)\n",
    "\n",
    "    def training_step(self, batch):\n",
    "        images, labels = batch\n",
    "        out = self(images)  # Gera previsões\n",
    "        return F.cross_entropy(out, labels)  # Calcula a perda\n",
    "\n",
    "    def validation_step(self, batch):\n",
    "        images, labels = batch\n",
    "        out = self(images)  # Gera previsões\n",
    "        loss = F.cross_entropy(out, labels)  # Calcula a perda\n",
    "        acc = accuracy(out, labels)  # Calcula a acurácia\n",
    "        return {\"val_loss\": loss.detach(), \"val_acc\": acc.detach()}\n",
    "\n",
    "    def validation_epoch_end(self, outputs):\n",
    "        batch_losses = [x[\"val_loss\"] for x in outputs]\n",
    "        epoch_loss = torch.stack(batch_losses).mean()  # Combina as perdas\n",
    "        batch_accs = [x[\"val_acc\"] for x in outputs]\n",
    "        epoch_acc = torch.stack(batch_accs).mean()  # Combina as acurácias\n",
    "        return {\"val_loss\": epoch_loss.item(), \"val_acc\": epoch_acc.item()}\n",
    "\n",
    "    def epoch_end(self, epoch, result):\n",
    "        print(\n",
    "            \"Epoch [{}], val_loss: {:.4f}, val_acc: {:.4f}\".format(\n",
    "                epoch + 1, result[\"val_loss\"], result[\"val_acc\"]\n",
    "            )\n",
    "        )"
   ]
  },
  {
   "cell_type": "code",
   "execution_count": 36,
   "metadata": {},
   "outputs": [
    {
     "data": {
      "text/plain": [
       "{'val_loss': 2.2969322204589844, 'val_acc': 0.16356803476810455}"
      ]
     },
     "execution_count": 36,
     "metadata": {},
     "output_type": "execute_result"
    }
   ],
   "source": [
    "model = MnistModel()\n",
    "result0 = evaluate(model, val_loader)\n",
    "result0"
   ]
  },
  {
   "cell_type": "code",
   "execution_count": 37,
   "metadata": {},
   "outputs": [
    {
     "name": "stdout",
     "output_type": "stream",
     "text": [
      "Epoch [1], val_loss: 0.3728, val_acc: 0.8969\n"
     ]
    }
   ],
   "source": [
    "history0 = fit(1, 0.2, model, train_loader, val_loader)"
   ]
  },
  {
   "cell_type": "code",
   "execution_count": 38,
   "metadata": {},
   "outputs": [
    {
     "name": "stdout",
     "output_type": "stream",
     "text": [
      "Epoch [1], val_loss: 0.3677, val_acc: 0.8991\n",
      "Epoch [2], val_loss: 0.3662, val_acc: 0.8994\n",
      "Epoch [3], val_loss: 0.3653, val_acc: 0.9000\n",
      "Epoch [4], val_loss: 0.3646, val_acc: 0.9002\n",
      "Epoch [5], val_loss: 0.3639, val_acc: 0.9001\n"
     ]
    }
   ],
   "source": [
    "history1 = fit(5, 0.002, model, train_loader, val_loader)"
   ]
  },
  {
   "cell_type": "code",
   "execution_count": 39,
   "metadata": {},
   "outputs": [
    {
     "name": "stdout",
     "output_type": "stream",
     "text": [
      "Epoch [1], val_loss: 0.3636, val_acc: 0.9002\n",
      "Epoch [2], val_loss: 0.3633, val_acc: 0.9002\n",
      "Epoch [3], val_loss: 0.3631, val_acc: 0.9000\n",
      "Epoch [4], val_loss: 0.3628, val_acc: 0.9004\n",
      "Epoch [5], val_loss: 0.3625, val_acc: 0.9004\n"
     ]
    }
   ],
   "source": [
    "history2 = fit(5, 0.001, model, train_loader, val_loader)"
   ]
  },
  {
   "cell_type": "code",
   "execution_count": 40,
   "metadata": {},
   "outputs": [
    {
     "name": "stdout",
     "output_type": "stream",
     "text": [
      "Epoch [1], val_loss: 0.3625, val_acc: 0.9004\n",
      "Epoch [2], val_loss: 0.3625, val_acc: 0.9004\n",
      "Epoch [3], val_loss: 0.3624, val_acc: 0.9004\n",
      "Epoch [4], val_loss: 0.3624, val_acc: 0.9004\n",
      "Epoch [5], val_loss: 0.3624, val_acc: 0.9004\n"
     ]
    }
   ],
   "source": [
    "history3= fit(5, 0.0001, model, train_loader, val_loader)\n",
    "\n",
    "# Final_1 -> 0.8938\n",
    "# Final_2 -> 0.8918\n",
    "# Final_3 -> 0.8978\n",
    "# Final_4 -> 0.8963\n",
    "# Final_5 -> 0.9005\n",
    "# Final_6 -> 0.9004\n"
   ]
  },
  {
   "cell_type": "code",
   "execution_count": 41,
   "metadata": {},
   "outputs": [
    {
     "data": {
      "text/plain": [
       "Text(0.5, 1.0, 'Accuracy vs. No. of epochs')"
      ]
     },
     "execution_count": 41,
     "metadata": {},
     "output_type": "execute_result"
    },
    {
     "data": {
      "image/png": "[encoded data removed]",
      "text/plain": [
       "<Figure size 640x480 with 1 Axes>"
      ]
     },
     "metadata": {},
     "output_type": "display_data"
    }
   ],
   "source": [
    "history = [result0] + history0 + history1 + history2 + history3\n",
    "accuracies = [result[\"val_acc\"] for result in history]\n",
    "plt.plot(accuracies, \"-x\")\n",
    "plt.xlabel(\"epoch\")\n",
    "plt.ylabel(\"accuracy\")\n",
    "plt.title(\"Accuracy vs. No. of epochs\")"
   ]
  },
  {
   "cell_type": "code",
   "execution_count": 44,
   "metadata": {},
   "outputs": [],
   "source": [
    "# Definimos o conjunto de testes\n",
    "test_dataset = MNIST(root=\"data/\", train=False, transform=transforms.ToTensor())"
   ]
  },
  {
   "cell_type": "code",
   "execution_count": 45,
   "metadata": {},
   "outputs": [
    {
     "name": "stdout",
     "output_type": "stream",
     "text": [
      "Shape: torch.Size([1, 28, 28])\n",
      "Label: 7\n"
     ]
    },
    {
     "data": {
      "image/png": "[encoded data removed]",
      "text/plain": [
       "<Figure size 640x480 with 1 Axes>"
      ]
     },
     "metadata": {},
     "output_type": "display_data"
    }
   ],
   "source": [
    "img, label = test_dataset[0]\n",
    "plt.imshow(img[0], cmap=\"gray\")\n",
    "print(\"Shape:\", img.shape)\n",
    "print(\"Label:\", label)"
   ]
  },
  {
   "cell_type": "code",
   "execution_count": 54,
   "metadata": {},
   "outputs": [],
   "source": [
    "def predict_image(img, model):\n",
    "    xb = img.unsqueeze(0)\n",
    "    yb = model(xb)\n",
    "    _, preds = torch.max(yb, dim=1)\n",
    "    return preds[0].item()"
   ]
  },
  {
   "cell_type": "code",
   "execution_count": 83,
   "metadata": {},
   "outputs": [
    {
     "name": "stdout",
     "output_type": "stream",
     "text": [
      "Label: 5 , Predicted: 6\n"
     ]
    },
    {
     "data": {
      "image/png": "[encoded data removed]",
      "text/plain": [
       "<Figure size 640x480 with 1 Axes>"
      ]
     },
     "metadata": {},
     "output_type": "display_data"
    }
   ],
   "source": [
    "# Testamos o modelo\n",
    "img, label = test_dataset[8]\n",
    "plt.imshow(img[0], cmap=\"gray\")\n",
    "print(\"Label:\", label, \", Predicted:\", predict_image(img, model))"
   ]
  },
  {
   "cell_type": "code",
   "execution_count": 85,
   "metadata": {},
   "outputs": [
    {
     "name": "stdout",
     "output_type": "stream",
     "text": [
      "Label: 2 , Predicted: 8\n"
     ]
    },
    {
     "data": {
      "image/png": "[encoded data removed]",
      "text/plain": [
       "<Figure size 640x480 with 1 Axes>"
      ]
     },
     "metadata": {},
     "output_type": "display_data"
    }
   ],
   "source": [
    "# Testamos o modelo\n",
    "img, label = test_dataset[1839]\n",
    "plt.imshow(img[0], cmap=\"gray\")\n",
    "print(\"Label:\", label, \", Predicted:\", predict_image(img, model))"
   ]
  },
  {
   "cell_type": "code",
   "execution_count": 90,
   "metadata": {},
   "outputs": [
    {
     "name": "stdout",
     "output_type": "stream",
     "text": [
      "{'val_loss': 0.3377915322780609, 'val_acc': 0.9089201092720032}\n",
      "{'val_loss': 0.3362191617488861, 'val_acc': 0.9092773199081421}\n",
      "{'val_loss': 0.34508365392684937, 'val_acc': 0.9066060781478882}\n",
      "{'val_loss': 0.3392128348350525, 'val_acc': 0.9084402918815613}\n"
     ]
    }
   ],
   "source": [
    "batch_size = [128, 256, 512, 1024]\n",
    "\n",
    "for i in batch_size:\n",
    "    test_loader = DataLoader(test_dataset, i)\n",
    "    result = evaluate(model, test_loader)\n",
    "    print(result)"
   ]
  },
  {
   "cell_type": "code",
   "execution_count": 91,
   "metadata": {},
   "outputs": [
    {
     "data": {
      "text/plain": [
       "OrderedDict([('linear.weight',\n",
       "              tensor([[-0.0063,  0.0060,  0.0138,  ..., -0.0205,  0.0224,  0.0142],\n",
       "                      [-0.0005,  0.0350, -0.0297,  ...,  0.0218,  0.0056,  0.0055],\n",
       "                      [ 0.0157, -0.0089,  0.0109,  ..., -0.0230, -0.0003, -0.0282],\n",
       "                      ...,\n",
       "                      [ 0.0342, -0.0169,  0.0338,  ..., -0.0222, -0.0228, -0.0263],\n",
       "                      [-0.0004,  0.0013,  0.0223,  ...,  0.0234,  0.0013,  0.0242],\n",
       "                      [ 0.0051,  0.0229, -0.0131,  ..., -0.0259, -0.0326, -0.0079]])),\n",
       "             ('linear.bias',\n",
       "              tensor([-0.1052,  0.2290, -0.0299, -0.1145,  0.0620,  0.4073, -0.0083,  0.1904,\n",
       "                      -0.5275, -0.0733]))])"
      ]
     },
     "execution_count": 91,
     "metadata": {},
     "output_type": "execute_result"
    }
   ],
   "source": [
    "model.state_dict()"
   ]
  },
  {
   "cell_type": "code",
   "execution_count": null,
   "metadata": {},
   "outputs": [],
   "source": []
  }
 ],
 "metadata": {
  "kernelspec": {
   "display_name": ".venv",
   "language": "python",
   "name": "python3"
  },
  "language_info": {
   "codemirror_mode": {
    "name": "ipython",
    "version": 3
   },
   "file_extension": ".py",
   "mimetype": "text/x-python",
   "name": "python",
   "nbconvert_exporter": "python",
   "pygments_lexer": "ipython3",
   "version": "3.11.7"
  }
 },
 "nbformat": 4,
 "nbformat_minor": 2
}
