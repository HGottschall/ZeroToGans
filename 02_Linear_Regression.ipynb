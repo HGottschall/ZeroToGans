{
 "cells": [
  {
   "cell_type": "markdown",
   "metadata": {},
   "source": [
    "Treinaremos nosso modelo ajustando os pesos várias vezes para fazer previsões cada vez melhores, utilizando uma técnica de otimização chamada gradiente de descida."
   ]
  },
  {
   "cell_type": "markdown",
   "metadata": {},
   "source": [
    "## Dados de treinamento"
   ]
  },
  {
   "cell_type": "code",
   "execution_count": 1,
   "metadata": {},
   "outputs": [],
   "source": [
    "import numpy as np\n",
    "import torch"
   ]
  },
  {
   "cell_type": "markdown",
   "metadata": {},
   "source": [
    "Podemos representar os dados de treinamento utilizando duas matrizes: `inputs` e `targets`, cada uma com uma linha por observação e uma coluna por variável."
   ]
  },
  {
   "cell_type": "code",
   "execution_count": 2,
   "metadata": {},
   "outputs": [],
   "source": [
    "# Input (temperatura, chuva, umidade)\n",
    "inputs = np.array(\n",
    "    [[73, 67, 43], [91, 88, 64], [87, 134, 58], [102, 43, 37], [69, 96, 70]],\n",
    "    dtype=\"float32\",\n",
    ")"
   ]
  },
  {
   "cell_type": "code",
   "execution_count": 3,
   "metadata": {},
   "outputs": [],
   "source": [
    "# Targets (maçãs, laranjas)\n",
    "targets = np.array(\n",
    "    [[56, 70], [81, 101], [119, 133], [22, 37], [103, 119]], dtype=\"float32\"\n",
    ")"
   ]
  },
  {
   "cell_type": "code",
   "execution_count": 4,
   "metadata": {},
   "outputs": [
    {
     "name": "stdout",
     "output_type": "stream",
     "text": [
      "[[ 73.  67.  43.]\n",
      " [ 91.  88.  64.]\n",
      " [ 87. 134.  58.]\n",
      " [102.  43.  37.]\n",
      " [ 69.  96.  70.]]\n",
      "[[ 56.  70.]\n",
      " [ 81. 101.]\n",
      " [119. 133.]\n",
      " [ 22.  37.]\n",
      " [103. 119.]]\n"
     ]
    }
   ],
   "source": [
    "# Converte os inputs e targets para tensores\n",
    "inputs_t = torch.from_numpy(inputs)\n",
    "targets_t = torch.from_numpy(targets)\n",
    "\n",
    "print(inputs)\n",
    "print(targets)"
   ]
  },
  {
   "cell_type": "markdown",
   "metadata": {},
   "source": [
    "Os pesos e os viéses também podem ser representados por matrizes, inicializados como valores aleatórios por `randn`. A primeira linha de `w` e o primeiro elemento de `b` são usados para predizer a primeira variável-alvo."
   ]
  },
  {
   "cell_type": "code",
   "execution_count": 5,
   "metadata": {},
   "outputs": [
    {
     "name": "stdout",
     "output_type": "stream",
     "text": [
      "tensor([[ 1.7345, -0.5321,  1.3262],\n",
      "        [ 0.6187, -0.5966,  1.5623]], requires_grad=True)\n",
      "tensor([ 0.4502, -0.4211], requires_grad=True)\n"
     ]
    }
   ],
   "source": [
    "# Pesos e bias\n",
    "w = torch.randn(2, 3, requires_grad=True)\n",
    "b = torch.randn(2, requires_grad=True)\n",
    "print(w)\n",
    "print(b)"
   ]
  },
  {
   "cell_type": "code",
   "execution_count": 6,
   "metadata": {},
   "outputs": [],
   "source": [
    "def model(x):\n",
    "    return x @ w.t() + b"
   ]
  },
  {
   "cell_type": "code",
   "execution_count": 7,
   "metadata": {},
   "outputs": [
    {
     "data": {
      "text/plain": [
       "tensor([[148.4476,  71.9531],\n",
       "        [196.3454, 103.3699],\n",
       "        [156.9734,  64.0800],\n",
       "        [203.5626,  94.8393],\n",
       "        [161.8858,  94.3595]], grad_fn=<AddBackward0>)"
      ]
     },
     "execution_count": 7,
     "metadata": {},
     "output_type": "execute_result"
    }
   ],
   "source": [
    "model(inputs_t)"
   ]
  },
  {
   "cell_type": "markdown",
   "metadata": {},
   "source": [
    "A matriz obtida pela operação `x @ w.t() + b` é a predição do modelo para as variáveis alvos "
   ]
  },
  {
   "cell_type": "code",
   "execution_count": 8,
   "metadata": {},
   "outputs": [
    {
     "name": "stdout",
     "output_type": "stream",
     "text": [
      "tensor([[148.4476,  71.9531],\n",
      "        [196.3454, 103.3699],\n",
      "        [156.9734,  64.0800],\n",
      "        [203.5626,  94.8393],\n",
      "        [161.8858,  94.3595]], grad_fn=<AddBackward0>)\n"
     ]
    }
   ],
   "source": [
    "# Gerando previsões\n",
    "preds = model(inputs_t)\n",
    "print(preds)"
   ]
  },
  {
   "cell_type": "code",
   "execution_count": 9,
   "metadata": {},
   "outputs": [
    {
     "name": "stdout",
     "output_type": "stream",
     "text": [
      "tensor([[ 56.,  70.],\n",
      "        [ 81., 101.],\n",
      "        [119., 133.],\n",
      "        [ 22.,  37.],\n",
      "        [103., 119.]])\n"
     ]
    }
   ],
   "source": [
    "# Comparando com os targets\n",
    "print(targets_t)"
   ]
  },
  {
   "cell_type": "markdown",
   "metadata": {},
   "source": [
    "## Função de perda"
   ]
  },
  {
   "cell_type": "markdown",
   "metadata": {},
   "source": [
    "Agora que temos um modelo, podemos melhorá-lo.\n",
    "\n",
    "Precisamos, antes desse passo, encontrar uma forma de saber se a predição foi além ou de menos. Podemos comparar o alvo com a previsão realizada com os seguintes meios:\n",
    "\n",
    "* Calculando a diferença entre as duas matrizes\n",
    "* Elevar todos os elementos ao quadrado para remover os valores negativos\n",
    "* Calcular a média dos elementos resultantes\n",
    "\n",
    "O resultado é um único valor, conhecido como MSE (mean square error) -- Erro Quadrático Médio"
   ]
  },
  {
   "cell_type": "code",
   "execution_count": 10,
   "metadata": {},
   "outputs": [],
   "source": [
    "# Erro quadrático médio\n",
    "def mse(t1, t2):\n",
    "    diff = t1 - t2\n",
    "    return torch.sum(diff * diff) / diff.numel()"
   ]
  },
  {
   "cell_type": "code",
   "execution_count": 11,
   "metadata": {},
   "outputs": [
    {
     "name": "stdout",
     "output_type": "stream",
     "text": [
      "tensor(6843.7578, grad_fn=<DivBackward0>)\n"
     ]
    }
   ],
   "source": [
    "# Calculando o erro\n",
    "loss = mse(preds, targets_t)\n",
    "print(loss)"
   ]
  },
  {
   "cell_type": "code",
   "execution_count": 12,
   "metadata": {},
   "outputs": [
    {
     "name": "stdout",
     "output_type": "stream",
     "text": [
      "Gradiente de loss: None\n",
      "Gradiente de w: tensor([[ 8626.2607,  6978.6113,  4879.9272],\n",
      "        [ -287.6768, -1754.8534,  -669.2966]])\n"
     ]
    }
   ],
   "source": [
    "# Gradientes\n",
    "print(f'Gradiente de loss: {loss.backward()}')\n",
    "print(f'Gradiente de w: {w.grad}')"
   ]
  },
  {
   "cell_type": "markdown",
   "metadata": {},
   "source": [
    "## Ajustando pesos e bias para reduzir a perda"
   ]
  },
  {
   "cell_type": "markdown",
   "metadata": {},
   "source": [
    "O objetivo de todo treinamento de modelo é diminuir a perda.\n",
    "\n",
    "Se o grandiente é positivo: \n",
    "\n",
    "* aumentar o valor do peso, aumentará o valor da perda.\n",
    "* diminuir o valor do peso, diminuirá o valor da perda"
   ]
  },
  {
   "cell_type": "code",
   "execution_count": 13,
   "metadata": {},
   "outputs": [],
   "source": [
    "with torch.no_grad():\n",
    "    w -= w.grad * 1e-5\n",
    "    b -= b.grad * 1e-5"
   ]
  },
  {
   "cell_type": "code",
   "execution_count": 14,
   "metadata": {},
   "outputs": [
    {
     "name": "stdout",
     "output_type": "stream",
     "text": [
      "tensor(5470.1572, grad_fn=<DivBackward0>)\n"
     ]
    }
   ],
   "source": [
    "# Verificamos se as perdas diminuiram\n",
    "preds = model(inputs_t)\n",
    "loss = mse(preds, targets_t)\n",
    "print(loss)"
   ]
  },
  {
   "cell_type": "code",
   "execution_count": 15,
   "metadata": {},
   "outputs": [
    {
     "name": "stdout",
     "output_type": "stream",
     "text": [
      "tensor([[0., 0., 0.],\n",
      "        [0., 0., 0.]])\n",
      "tensor([0., 0.])\n"
     ]
    }
   ],
   "source": [
    "w.grad.zero_()\n",
    "b.grad.zero_()\n",
    "\n",
    "print(w.grad)\n",
    "print(b.grad)"
   ]
  },
  {
   "cell_type": "markdown",
   "metadata": {},
   "source": [
    "## Treinamento utilizando descida do gradiente"
   ]
  },
  {
   "cell_type": "markdown",
   "metadata": {},
   "source": [
    "Como visto, reduzimos a perda para melhorar o modelo usando algoritmos de descida de gradiente. Para treinar modelos seguindo essa estratégia, precisamos:\n",
    "\n",
    "1. Gerar predições\n",
    "2. Calcular a perda\n",
    "3. Calcular os gradientes\n",
    "4. Ajustar os pesos substraindo por uma pequena fração do gradiente\n",
    "5. Redefinir os gradientes a zero"
   ]
  },
  {
   "cell_type": "code",
   "execution_count": 16,
   "metadata": {},
   "outputs": [
    {
     "name": "stdout",
     "output_type": "stream",
     "text": [
      "tensor([[135.3754,  73.6267],\n",
      "        [179.2302, 105.6044],\n",
      "        [137.2859,  67.0701],\n",
      "        [189.9565,  96.1351],\n",
      "        [145.8173,  96.7112]], grad_fn=<AddBackward0>)\n"
     ]
    }
   ],
   "source": [
    "# Geramos predições\n",
    "preds = model(inputs_t)\n",
    "print(preds)"
   ]
  },
  {
   "cell_type": "code",
   "execution_count": 17,
   "metadata": {},
   "outputs": [
    {
     "name": "stdout",
     "output_type": "stream",
     "text": [
      "tensor(5470.1572, grad_fn=<DivBackward0>)\n"
     ]
    }
   ],
   "source": [
    "# Calculamos a perda\n",
    "loss = mse(preds, targets_t)\n",
    "print(loss)"
   ]
  },
  {
   "cell_type": "code",
   "execution_count": 18,
   "metadata": {},
   "outputs": [
    {
     "name": "stdout",
     "output_type": "stream",
     "text": [
      "tensor([[ 7282.0376,  5549.0630,  3994.4126],\n",
      "        [ -111.6606, -1556.6702,  -549.1049]])\n",
      "tensor([81.3331, -4.1705])\n"
     ]
    }
   ],
   "source": [
    "# Computamos os gradientes\n",
    "loss.backward()\n",
    "print(w.grad)\n",
    "print(b.grad)"
   ]
  },
  {
   "cell_type": "code",
   "execution_count": 19,
   "metadata": {},
   "outputs": [],
   "source": [
    "# Ajustamos o peso\n",
    "with torch.no_grad():\n",
    "    w -= w.grad * 1e-5\n",
    "    b -= b.grad * 1e-5\n",
    "\n",
    "    w.grad.zero_()\n",
    "    b.grad.zero_()"
   ]
  },
  {
   "cell_type": "code",
   "execution_count": 20,
   "metadata": {},
   "outputs": [
    {
     "name": "stdout",
     "output_type": "stream",
     "text": [
      "tensor([[ 1.5755, -0.6574,  1.2375],\n",
      "        [ 0.6227, -0.5634,  1.5745]], requires_grad=True)\n",
      "tensor([ 0.4484, -0.4210], requires_grad=True)\n"
     ]
    }
   ],
   "source": [
    "print(w)\n",
    "print(b)"
   ]
  },
  {
   "cell_type": "code",
   "execution_count": 21,
   "metadata": {},
   "outputs": [
    {
     "name": "stdout",
     "output_type": "stream",
     "text": [
      "tensor(4533.8604, grad_fn=<DivBackward0>)\n"
     ]
    }
   ],
   "source": [
    "# Calculamos a perda\n",
    "preds = model(inputs_t)\n",
    "loss = mse(preds, targets_t)\n",
    "print(loss)"
   ]
  },
  {
   "cell_type": "markdown",
   "metadata": {},
   "source": [
    "## Treinamento por épocas"
   ]
  },
  {
   "cell_type": "markdown",
   "metadata": {},
   "source": [
    "Para reduzirmos ainda mais a perda, podemos repetir esse processo por várias vezes (épocas). Vamos treinar por 100 épocas"
   ]
  },
  {
   "cell_type": "code",
   "execution_count": 22,
   "metadata": {},
   "outputs": [],
   "source": [
    "# Treinamento por 100 epochs\n",
    "for i in range(800):\n",
    "    preds = model(inputs_t)\n",
    "    loss = mse(preds, targets_t)\n",
    "    loss.backward()\n",
    "    with torch.no_grad():\n",
    "        w -= w.grad * 1e-5\n",
    "        b -= b.grad * 1e-5\n",
    "        w.grad.zero_()\n",
    "        b.grad.zero_()"
   ]
  },
  {
   "cell_type": "code",
   "execution_count": 23,
   "metadata": {},
   "outputs": [
    {
     "name": "stdout",
     "output_type": "stream",
     "text": [
      "tensor(12.7314, grad_fn=<DivBackward0>)\n"
     ]
    }
   ],
   "source": [
    "# Calculamos a perda\n",
    "preds = model(inputs_t)\n",
    "loss = mse(preds, targets_t)\n",
    "print(loss)"
   ]
  },
  {
   "cell_type": "code",
   "execution_count": 24,
   "metadata": {},
   "outputs": [
    {
     "data": {
      "text/plain": [
       "(tensor([[ 57.1209,  69.9705],\n",
       "         [ 84.2266, 103.6373],\n",
       "         [114.1721, 126.7533],\n",
       "         [ 20.6127,  35.7886],\n",
       "         [105.7925, 124.9305]], grad_fn=<AddBackward0>),\n",
       " array([[ 56.,  70.],\n",
       "        [ 81., 101.],\n",
       "        [119., 133.],\n",
       "        [ 22.,  37.],\n",
       "        [103., 119.]], dtype=float32))"
      ]
     },
     "execution_count": 24,
     "metadata": {},
     "output_type": "execute_result"
    }
   ],
   "source": [
    "# Verificamos as predições com os targets\n",
    "preds, targets\n",
    "\n",
    "# Registrando o loss de 8.6:\n",
    "# (tensor([[ 57.3090,  69.2779],\n",
    "#          [ 82.1458,  99.8025],\n",
    "#          [118.6023, 136.5943],\n",
    "#          [ 21.4513,  29.5221],\n",
    "#          [101.6896, 122.3019]], grad_fn=<AddBackward0>),\n",
    "#  array([[ 56.,  70.],\n",
    "#         [ 81., 101.],\n",
    "#         [119., 133.],\n",
    "#         [ 22.,  37.],\n",
    "#         [103., 119.]], dtype=float32))"
   ]
  },
  {
   "cell_type": "markdown",
   "metadata": {},
   "source": [
    "# Regressão linear utilizando ferramentas do PyTorch"
   ]
  },
  {
   "cell_type": "code",
   "execution_count": 25,
   "metadata": {},
   "outputs": [],
   "source": [
    "import torch.nn as nn"
   ]
  },
  {
   "cell_type": "code",
   "execution_count": 26,
   "metadata": {},
   "outputs": [],
   "source": [
    "# Inputs (temperatura, chuva, umidade)\n",
    "inputs = np.array(\n",
    "    [\n",
    "        [73, 67, 43],\n",
    "        [91, 88, 64],\n",
    "        [87, 134, 58],\n",
    "        [102, 43, 37],\n",
    "        [69, 96, 70],\n",
    "        [74, 66, 43],\n",
    "        [91, 87, 65],\n",
    "        [88, 134, 59],\n",
    "        [101, 44, 37],\n",
    "        [68, 96, 71],\n",
    "        [73, 66, 44],\n",
    "        [92, 87, 64],\n",
    "        [87, 135, 57],\n",
    "        [103, 43, 36],\n",
    "        [68, 97, 70],\n",
    "    ],\n",
    "    dtype=\"float32\",\n",
    ")\n",
    "\n",
    "# Targets (maçãs, laranjas)\n",
    "targets = np.array(\n",
    "    [\n",
    "        [56, 70],\n",
    "        [81, 101],\n",
    "        [119, 133],\n",
    "        [22, 37],\n",
    "        [103, 119],\n",
    "        [57, 69],\n",
    "        [80, 102],\n",
    "        [118, 132],\n",
    "        [21, 38],\n",
    "        [104, 118],\n",
    "        [57, 69],\n",
    "        [82, 100],\n",
    "        [118, 134],\n",
    "        [20, 38],\n",
    "        [102, 120],\n",
    "    ],\n",
    "    dtype=\"float32\",\n",
    ")"
   ]
  },
  {
   "cell_type": "code",
   "execution_count": 27,
   "metadata": {},
   "outputs": [],
   "source": [
    "inputs = torch.from_numpy(inputs)\n",
    "targets = torch.from_numpy(targets)"
   ]
  },
  {
   "cell_type": "code",
   "execution_count": 28,
   "metadata": {},
   "outputs": [
    {
     "data": {
      "text/plain": [
       "tensor([[ 73.,  67.,  43.],\n",
       "        [ 91.,  88.,  64.],\n",
       "        [ 87., 134.,  58.],\n",
       "        [102.,  43.,  37.],\n",
       "        [ 69.,  96.,  70.],\n",
       "        [ 74.,  66.,  43.],\n",
       "        [ 91.,  87.,  65.],\n",
       "        [ 88., 134.,  59.],\n",
       "        [101.,  44.,  37.],\n",
       "        [ 68.,  96.,  71.],\n",
       "        [ 73.,  66.,  44.],\n",
       "        [ 92.,  87.,  64.],\n",
       "        [ 87., 135.,  57.],\n",
       "        [103.,  43.,  36.],\n",
       "        [ 68.,  97.,  70.]])"
      ]
     },
     "execution_count": 28,
     "metadata": {},
     "output_type": "execute_result"
    }
   ],
   "source": [
    "inputs"
   ]
  },
  {
   "cell_type": "code",
   "execution_count": 29,
   "metadata": {},
   "outputs": [],
   "source": [
    "from torch.utils.data import TensorDataset"
   ]
  },
  {
   "cell_type": "code",
   "execution_count": 30,
   "metadata": {},
   "outputs": [
    {
     "data": {
      "text/plain": [
       "(tensor([[ 73.,  67.,  43.],\n",
       "         [ 91.,  88.,  64.],\n",
       "         [ 87., 134.,  58.]]),\n",
       " tensor([[ 56.,  70.],\n",
       "         [ 81., 101.],\n",
       "         [119., 133.]]))"
      ]
     },
     "execution_count": 30,
     "metadata": {},
     "output_type": "execute_result"
    }
   ],
   "source": [
    "# Definimos o dataset\n",
    "train_ds = TensorDataset(inputs, targets)\n",
    "train_ds[0:3]"
   ]
  },
  {
   "cell_type": "code",
   "execution_count": 31,
   "metadata": {},
   "outputs": [],
   "source": [
    "# Definimos o DataLoader resposável por gerar os batches\n",
    "from torch.utils.data import DataLoader"
   ]
  },
  {
   "cell_type": "code",
   "execution_count": 32,
   "metadata": {},
   "outputs": [],
   "source": [
    "batch_size = 5\n",
    "train_dl = DataLoader(train_ds, batch_size, shuffle=True)"
   ]
  },
  {
   "cell_type": "markdown",
   "metadata": {},
   "source": [
    "`Shuffle` ajuda a randomizar o lote antes de passar para o modelo. Ele ajuda a melhorar a eficiência do algoritmo de otimização e leva a uma melhora acelerada da perda."
   ]
  },
  {
   "cell_type": "code",
   "execution_count": 33,
   "metadata": {},
   "outputs": [
    {
     "name": "stdout",
     "output_type": "stream",
     "text": [
      "tensor([[91., 87., 65.],\n",
      "        [74., 66., 43.],\n",
      "        [69., 96., 70.],\n",
      "        [73., 66., 44.],\n",
      "        [73., 67., 43.]])\n",
      "tensor([[ 80., 102.],\n",
      "        [ 57.,  69.],\n",
      "        [103., 119.],\n",
      "        [ 57.,  69.],\n",
      "        [ 56.,  70.]])\n"
     ]
    }
   ],
   "source": [
    "for xb, yb in train_dl:\n",
    "    print(xb)\n",
    "    print(yb)\n",
    "    break"
   ]
  },
  {
   "cell_type": "code",
   "execution_count": 34,
   "metadata": {},
   "outputs": [
    {
     "name": "stdout",
     "output_type": "stream",
     "text": [
      "Parameter containing:\n",
      "tensor([[-0.5283, -0.2091, -0.2163],\n",
      "        [-0.0149,  0.3261, -0.4483]], requires_grad=True)\n",
      "Parameter containing:\n",
      "tensor([ 0.0714, -0.4278], requires_grad=True)\n"
     ]
    }
   ],
   "source": [
    "# Definimos o modelo\n",
    "model = nn.Linear(3, 2)\n",
    "print(model.weight)\n",
    "print(model.bias)"
   ]
  },
  {
   "cell_type": "markdown",
   "metadata": {},
   "source": [
    "O método `.parameters` retorna uma lista das matrizes dos pesos e do bias no modelo."
   ]
  },
  {
   "cell_type": "code",
   "execution_count": 35,
   "metadata": {},
   "outputs": [
    {
     "data": {
      "text/plain": [
       "[Parameter containing:\n",
       " tensor([[-0.5283, -0.2091, -0.2163],\n",
       "         [-0.0149,  0.3261, -0.4483]], requires_grad=True),\n",
       " Parameter containing:\n",
       " tensor([ 0.0714, -0.4278], requires_grad=True)]"
      ]
     },
     "execution_count": 35,
     "metadata": {},
     "output_type": "execute_result"
    }
   ],
   "source": [
    "# Parametros\n",
    "list(model.parameters())"
   ]
  },
  {
   "cell_type": "code",
   "execution_count": 36,
   "metadata": {},
   "outputs": [
    {
     "data": {
      "text/plain": [
       "tensor([[-61.8041,   1.0621],\n",
       "        [-80.2466,  -1.7705],\n",
       "        [-86.4564,  15.9806],\n",
       "        [-70.8064,  -4.5063],\n",
       "        [-71.5958,  -1.5242],\n",
       "        [-62.1232,   0.7211],\n",
       "        [-80.2538,  -2.5449],\n",
       "        [-87.2010,  15.5175],\n",
       "        [-70.4873,  -4.1654],\n",
       "        [-71.2839,  -1.9576],\n",
       "        [-61.8112,   0.2877],\n",
       "        [-80.5657,  -2.1115],\n",
       "        [-86.4493,  16.7550],\n",
       "        [-71.1184,  -4.0729],\n",
       "        [-71.2767,  -1.1832]], grad_fn=<AddmmBackward0>)"
      ]
     },
     "execution_count": 36,
     "metadata": {},
     "output_type": "execute_result"
    }
   ],
   "source": [
    "# Geramos as predições\n",
    "preds = model(inputs)\n",
    "preds"
   ]
  },
  {
   "cell_type": "markdown",
   "metadata": {},
   "source": [
    "## Função de perda"
   ]
  },
  {
   "cell_type": "code",
   "execution_count": 37,
   "metadata": {},
   "outputs": [],
   "source": [
    "import torch.nn.functional as F"
   ]
  },
  {
   "cell_type": "code",
   "execution_count": 38,
   "metadata": {},
   "outputs": [],
   "source": [
    "# Definimos a função de perda\n",
    "loss_fn = F.mse_loss"
   ]
  },
  {
   "cell_type": "code",
   "execution_count": 39,
   "metadata": {},
   "outputs": [
    {
     "name": "stdout",
     "output_type": "stream",
     "text": [
      "tensor(16628.8535, grad_fn=<MseLossBackward0>)\n"
     ]
    }
   ],
   "source": [
    "loss = loss_fn(model(inputs), targets)\n",
    "print(loss)"
   ]
  },
  {
   "cell_type": "markdown",
   "metadata": {},
   "source": [
    "## Otimizador"
   ]
  },
  {
   "cell_type": "markdown",
   "metadata": {},
   "source": [
    "Podemos utilizar otimizadores embutidos no PyTorch em vez de definir manualmente. Para o gradiente de descida, podemos utilizar `optim.SGD`"
   ]
  },
  {
   "cell_type": "code",
   "execution_count": 40,
   "metadata": {},
   "outputs": [],
   "source": [
    "# Definimos o otimizador\n",
    "opt = torch.optim.SGD(model.parameters(), lr=1e-5)"
   ]
  },
  {
   "cell_type": "code",
   "execution_count": 42,
   "metadata": {},
   "outputs": [],
   "source": [
    "# Definimos a função de treinamento\n",
    "def fit(num_epochs, model, loss_fn, opt):\n",
    "    for epoch in range(num_epochs):\n",
    "        for xb, yb in train_dl:\n",
    "            # Geramos as predições\n",
    "            pred = model(xb)\n",
    "            # Calculamos a perda\n",
    "            loss = loss_fn(pred, yb)\n",
    "            # Computamos os gradientes\n",
    "            loss.backward()\n",
    "            # Atualizamos os parâmetros usando os gradientes\n",
    "            opt.step()\n",
    "            # Zeramos os gradientes\n",
    "            opt.zero_grad()\n",
    "        # Imprimimos a perda a cada 100 epochs\n",
    "        if (epoch + 1) % 100 == 0:\n",
    "            print(\n",
    "                \"Epoch [{}/{}], Loss: {:.4f}\".format(epoch + 1, num_epochs, loss.item())\n",
    "            )"
   ]
  },
  {
   "cell_type": "code",
   "execution_count": null,
   "metadata": {},
   "outputs": [],
   "source": []
  }
 ],
 "metadata": {
  "kernelspec": {
   "display_name": ".venv",
   "language": "python",
   "name": "python3"
  },
  "language_info": {
   "codemirror_mode": {
    "name": "ipython",
    "version": 3
   },
   "file_extension": ".py",
   "mimetype": "text/x-python",
   "name": "python",
   "nbconvert_exporter": "python",
   "pygments_lexer": "ipython3",
   "version": "3.11.7"
  }
 },
 "nbformat": 4,
 "nbformat_minor": 2
}
